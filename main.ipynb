{
 "cells": [
  {
   "cell_type": "code",
   "execution_count": 3,
   "id": "30cf0b0c-07a1-4a97-a559-51d0cb73cae3",
   "metadata": {},
   "outputs": [],
   "source": [
    "import pandas as pd\n",
    "from sklearn import linear_model"
   ]
  },
  {
   "cell_type": "code",
   "execution_count": 14,
   "id": "3038fba6-0da2-4db8-a6b2-a1538f1a1436",
   "metadata": {},
   "outputs": [],
   "source": [
    "# Inicjalizacja modelu uczenia regresji liniowej oraz zbioru danych\n",
    "reg = linear_model.LinearRegression()\n",
    "aviation_data_set = pd.read_csv(\"data/prepared_data_from_contributors.csv\", sep=\";\")"
   ]
  }
 ],
 "metadata": {
  "kernelspec": {
   "display_name": "Python 3 (ipykernel)",
   "language": "python",
   "name": "python3"
  },
  "language_info": {
   "codemirror_mode": {
    "name": "ipython",
    "version": 3
   },
   "file_extension": ".py",
   "mimetype": "text/x-python",
   "name": "python",
   "nbconvert_exporter": "python",
   "pygments_lexer": "ipython3",
   "version": "3.11.9"
  }
 },
 "nbformat": 4,
 "nbformat_minor": 5
}
