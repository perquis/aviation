{
 "cells": [
  {
   "cell_type": "code",
   "execution_count": null,
   "id": "5fe9f26c-3432-4fc6-b1db-74a7c284ba10",
   "metadata": {},
   "outputs": [],
   "source": []
  }
 ],
 "metadata": {
  "kernelspec": {
   "display_name": "",
   "name": ""
  },
  "language_info": {
   "name": ""
  }
 },
 "nbformat": 4,
 "nbformat_minor": 5
}
